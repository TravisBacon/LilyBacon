{
 "cells": [
  {
   "cell_type": "code",
   "execution_count": 33,
   "metadata": {},
   "outputs": [
    {
     "data": {
      "image/png": "[encoded data removed]",
      "text/plain": [
       "<matplotlib.figure.Figure at 0x1cc95c5c400>"
      ]
     },
     "metadata": {},
     "output_type": "display_data"
    },
    {
     "name": "stdout",
     "output_type": "stream",
     "text": [
      "0.7318840579710145\n"
     ]
    }
   ],
   "source": [
    "import numpy as np\n",
    "import matplotlib.pyplot as plt\n",
    "from sklearn.datasets import load_svmlight_file\n",
    "from sklearn.model_selection import train_test_split\n",
    "\n",
    "#读取数据 X和y用以记录 总输入和总输出\n",
    "X,y=load_svmlight_file(\"G:/australian_scale\")\n",
    "\n",
    "#为输入后加上一列1,并记录总输入的样本数和特征数\n",
    "X = X.toarray()\n",
    "row,col=X.shape\n",
    "X=np.column_stack((X,np.ones((row,1))))\n",
    "\n",
    "#切分训练集和验证集\n",
    "X_train, X_test, y_train, y_test = train_test_split(\n",
    "    X, y, test_size=0.2, random_state=42)\n",
    "\n",
    "#接下来先拿X_train和y_train开刀\n",
    "row_train,col_train=X_train.shape\n",
    "y_train=y_train.reshape(row_train,1)\n",
    "\n",
    "row_test,col_test=X_test.shape\n",
    "y_test=y_test.reshape(row_test,1)\n",
    "\n",
    "#初始化参数 选择全零初始化\n",
    "W=np.zeros((col+1,1))\n",
    "\n",
    "#确定学习率和训练次数\n",
    "n=0.00001\n",
    "count=0\n",
    "max_count=10000\n",
    "\n",
    "\n",
    "#用数组记录loss\n",
    "loss_train=np.zeros(max_count)\n",
    "loss_validation=np.zeros(max_count)\n",
    "\n",
    "while(count<max_count):\n",
    "    i=0\n",
    "    j=0\n",
    "    G_hinge=np.zeros((col+1,1))\n",
    "    loss_hinge_train=0\n",
    "    loss_hinge_validation=0\n",
    "    while(i<row_train):\n",
    "        if(y_train[i].dot(W.T.dot(X_train[i]))<1):\n",
    "            y_train_cell=y_train[i].reshape(1,1)\n",
    "            X_train_cell=X_train[i].reshape(15,1)\n",
    "            G_hinge+=-X_train_cell.dot(y_train_cell)\n",
    "            loss_hinge_train+=1-y_train[i].dot(W.T.dot(X_train[i]))\n",
    "            i+=1\n",
    "        else:\n",
    "            i+=1\n",
    "    while(j<row_test):\n",
    "        if(y_test[j].dot(W.T.dot(X_test[j]))<1):\n",
    "            loss_hinge_validation+=1-y_test[j].dot(W.T.dot(X_test[j]))\n",
    "        j+=1\n",
    "        \n",
    "    G=W+G_hinge\n",
    "    loss_train[count]=loss_hinge_train\n",
    "    loss_validation[count]=loss_hinge_validation\n",
    "    W=W-n*G\n",
    "    count+=1\n",
    "    \n",
    "count=0\n",
    "while(count<max_count):\n",
    "    loss_train[count]=loss_train[count]/row_train\n",
    "    loss_validation[count]=loss_validation[count]/row_test\n",
    "    count+=1\n",
    "\n",
    "#绘图\n",
    "x=range(max_count)\n",
    "y_t = [loss_train[count] for count in x]\n",
    "y_v=[loss_validation[count] for count in x]\n",
    "\n",
    "plt.plot(x, y_t,'g-', label='train')  \n",
    "plt.plot(x,y_v,'b-', label='validation')\n",
    "plt.legend()\n",
    "\n",
    "plt.xlabel('Iteration time')\n",
    "plt.ylabel('loss')\n",
    "plt.title('Linear classfication ')\n",
    "plt.show()\n",
    "\n",
    "right=0\n",
    "j=0\n",
    "while(j<row_test):\n",
    "    if(W.T.dot(X_test[j])>=1):\n",
    "        if(y_test[j][0]==1.0):\n",
    "            right+=1\n",
    "    if(W.T.dot(X_test[j])<=-1.0):\n",
    "        if(y_test[j][0]==-1.0):\n",
    "            right+=1\n",
    "    j+=1\n",
    "print(right/row_test)\n"
   ]
  },
  {
   "cell_type": "code",
   "execution_count": 27,
   "metadata": {},
   "outputs": [
    {
     "data": {
      "text/plain": [
       "1.0"
      ]
     },
     "execution_count": 27,
     "metadata": {},
     "output_type": "execute_result"
    }
   ],
   "source": [
    "y_test[0][0]\n"
   ]
  },
  {
   "cell_type": "code",
   "execution_count": null,
   "metadata": {
    "collapsed": true
   },
   "outputs": [],
   "source": []
  }
 ],
 "metadata": {
  "kernelspec": {
   "display_name": "Python 3",
   "language": "python",
   "name": "python3"
  },
  "language_info": {
   "codemirror_mode": {
    "name": "ipython",
    "version": 3
   },
   "file_extension": ".py",
   "mimetype": "text/x-python",
   "name": "python",
   "nbconvert_exporter": "python",
   "pygments_lexer": "ipython3",
   "version": "3.6.3"
  }
 },
 "nbformat": 4,
 "nbformat_minor": 2
}
