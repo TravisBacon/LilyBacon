{
 "cells": [
  {
   "cell_type": "code",
   "execution_count": 43,
   "metadata": {},
   "outputs": [
    {
     "data": {
      "image/png": "[encoded data removed]",
      "text/plain": [
       "<matplotlib.figure.Figure at 0x224142154e0>"
      ]
     },
     "metadata": {},
     "output_type": "display_data"
    },
    {
     "name": "stdout",
     "output_type": "stream",
     "text": [
      "21.641412719\n",
      "24.2913903508\n"
     ]
    }
   ],
   "source": [
    "import numpy as np\n",
    "import matplotlib.pyplot as plt\n",
    "from sklearn.datasets import load_svmlight_file\n",
    "from sklearn.model_selection import train_test_split\n",
    "\n",
    "#读取数据 X和y用以记录 总输入和总输出\n",
    "X,y=load_svmlight_file(\"G:/housing_scale\")\n",
    "\n",
    "#为输入后加上一列1,并记录总输入的样本数和特征数\n",
    "X = X.toarray()\n",
    "row,col=X.shape\n",
    "X=np.column_stack((X,np.ones((row,1))))\n",
    "\n",
    "#切分训练集和验证集\n",
    "X_train, X_test, y_train, y_test = train_test_split(\n",
    "    X, y, test_size=0.2, random_state=42)\n",
    "\n",
    "#接下来先拿X_train和y_train开刀\n",
    "row_train,col_train=X_train.shape\n",
    "y_train=y_train.reshape(row_train,1)\n",
    "\n",
    "row_test,col_test=X_test.shape\n",
    "y_test=y_test.reshape(row_test,1)\n",
    "#初始化参数 选择全零初始化\n",
    "W=np.zeros((col+1,1))\n",
    "\n",
    "#确定学习率和训练次数\n",
    "n=0.001\n",
    "count=0\n",
    "max_count=1500\n",
    "\n",
    "#用数组记录loss\n",
    "loss_train=np.zeros(max_count)\n",
    "loss_validation=np.zeros(max_count)\n",
    "\n",
    "while(count<max_count):\n",
    "    G=-X_train.T.dot(y_train)+X_train.T.dot(X_train).dot(W)\n",
    "    loss_train[count]=((y_train-X_train.dot(W)).T.dot(y_train-X_train.dot(W)))/row_train\n",
    "    loss_validation[count]=((y_test-X_test.dot(W)).T.dot(y_test-X_test.dot(W)))/row_test\n",
    "    W=W-n*G\n",
    "    count+=1\n",
    "    \n",
    "\n",
    "    \n",
    "#绘图\n",
    "x=range(max_count)\n",
    "y_t = [loss_train[count] for count in x]\n",
    "y_v=[loss_validation[count] for count in x]\n",
    "\n",
    "plt.plot(x, y_t,'g-', label='train')  \n",
    "plt.plot(x,y_v,'b-', label='validation')\n",
    "plt.legend()\n",
    "\n",
    "plt.xlabel('Iteration time')\n",
    "plt.ylabel('Least squared loss')\n",
    "plt.title('Linear regression ')\n",
    "plt.show()\n",
    "\n",
    "print(loss_train[max_count-1])\n",
    "print(loss_validation[max_count-1])\n",
    "\n"
   ]
  },
  {
   "cell_type": "code",
   "execution_count": null,
   "metadata": {
    "collapsed": true
   },
   "outputs": [],
   "source": []
  }
 ],
 "metadata": {
  "kernelspec": {
   "display_name": "Python 3",
   "language": "python",
   "name": "python3"
  },
  "language_info": {
   "codemirror_mode": {
    "name": "ipython",
    "version": 3
   },
   "file_extension": ".py",
   "mimetype": "text/x-python",
   "name": "python",
   "nbconvert_exporter": "python",
   "pygments_lexer": "ipython3",
   "version": "3.6.3"
  }
 },
 "nbformat": 4,
 "nbformat_minor": 2
}
